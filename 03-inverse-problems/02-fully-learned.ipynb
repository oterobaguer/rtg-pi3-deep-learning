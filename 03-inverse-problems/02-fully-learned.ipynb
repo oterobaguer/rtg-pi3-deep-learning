{
  "nbformat": 4,
  "nbformat_minor": 0,
  "metadata": {
    "kernelspec": {
      "name": "python3",
      "display_name": "Python 3"
    },
    "language_info": {
      "codemirror_mode": {
        "name": "ipython",
        "version": 3
      },
      "file_extension": ".py",
      "mimetype": "text/x-python",
      "name": "python",
      "nbconvert_exporter": "python",
      "pygments_lexer": "ipython3",
      "version": "3.6.8"
    },
    "colab": {
      "name": "03-fully-learned.ipynb",
      "provenance": []
    },
    "accelerator": "GPU"
  },
  "cells": [
    {
      "cell_type": "markdown",
      "metadata": {
        "id": "z3_4GcJufdaz",
        "colab_type": "text"
      },
      "source": [
        "# Fully learned reconstruction\n",
        "\n",
        "In the following exercise we will train a notebook for solving the directly the Inverse Problem\n",
        "$$\\varphi_\\Theta: Y \\to X$$\n",
        "\n",
        "Given $N$ training pairs $S = \\{(y^\\delta_i, x^\\dagger_i)\\}$ we will train the network by minimizing the loss function \n",
        "\n",
        "$$L_S(\\Theta) = \\sum_{i=1}^N \\Vert \\varphi_\\Theta(y^\\delta_i) - x_i^\\dagger \\Vert$$\n",
        "\n",
        "## Load the data"
      ]
    },
    {
      "cell_type": "code",
      "metadata": {
        "id": "cZ6Ec-brfda4",
        "colab_type": "code",
        "colab": {}
      },
      "source": [
        "import numpy as np\n",
        "from skimage.transform import radon, iradon\n",
        "\n",
        "n, m = 28, 28\n",
        "\n",
        "###############################################\n",
        "# TODO: Set number of angles\n",
        "angles = ...\n",
        "###############################################\n",
        "\n",
        "detectors = 40\n",
        "\n",
        "theta = np.linspace(0.0, 180.0, angles, endpoint=False)"
      ],
      "execution_count": 0,
      "outputs": []
    },
    {
      "cell_type": "code",
      "metadata": {
        "id": "VMSvKi3Gfda-",
        "colab_type": "code",
        "colab": {}
      },
      "source": [
        "import torch\n",
        "\n",
        "import matplotlib.pyplot as plt\n",
        "\n",
        "from torchvision import datasets, transforms\n",
        "from torch.utils.data import Dataset\n",
        "\n",
        "batch_size = 64\n",
        "\n",
        "transform_train = transforms.Compose([\n",
        "    transforms.ToTensor()\n",
        "])\n",
        "\n",
        "transform_test = transforms.Compose([\n",
        "    transforms.ToTensor()\n",
        "])\n",
        "\n",
        "\n",
        "def forward(phantom):\n",
        "    sinogram = radon(phantom.squeeze(), theta, circle=False)\n",
        "    sinogram += 0.1 * np.random.normal(size=sinogram.shape)\n",
        "    return sinogram\n",
        "\n",
        "\n",
        "class SinogramData(Dataset):\n",
        "    def __init__(self, dataset, forward):\n",
        "        super(SinogramData, self).__init__()\n",
        "        self.dataset = dataset\n",
        "\n",
        "        self.sinograms = []\n",
        "        for i in range(len(self.dataset)):\n",
        "            x = self.dataset[i][0]\n",
        "            self.sinograms.append(torch.tensor(forward(x), dtype=torch.float32))\n",
        "        self.forward = forward\n",
        "    \n",
        "    def __len__(self):\n",
        "        return len(self.dataset)\n",
        "\n",
        "    def __getitem__(self, idx):\n",
        "        x, _ = self.dataset[idx]\n",
        "        y = self.sinograms[idx]\n",
        "        return x, y\n",
        "    \n",
        "# datasets (MNIST)\n",
        "mnist_train = SinogramData(datasets.MNIST('/data', train=True, download=True, transform=transform_train), forward)\n",
        "mnist_test  = SinogramData(datasets.MNIST('/data', train=False, download=True, transform=transform_test), forward)\n",
        "\n",
        "# dataloaders\n",
        "train_loader = torch.utils.data.DataLoader(mnist_train, batch_size=batch_size)\n",
        "test_loader = torch.utils.data.DataLoader(mnist_test, batch_size=batch_size)\n",
        "\n",
        "\n",
        "def visualize_batch(batch, ncols=8):\n",
        "    nrows = (batch.shape[0] + ncols - 1) // ncols\n",
        "    plt.figure(figsize=(15, 2 * nrows))\n",
        "    for i in range(batch.shape[0]):\n",
        "        plt.subplot(nrows, ncols, i+1)\n",
        "        plt.imshow(batch[i].squeeze())\n",
        "        plt.axis('off')\n",
        "    plt.show()\n",
        "\n",
        "\n",
        "x_batch, y_batch = next(iter(train_loader))\n",
        "visualize_batch(x_batch)\n",
        "visualize_batch(y_batch)"
      ],
      "execution_count": 0,
      "outputs": []
    },
    {
      "cell_type": "markdown",
      "metadata": {
        "id": "MZ8wXihqfdbD",
        "colab_type": "text"
      },
      "source": [
        "## Create the neural network"
      ]
    },
    {
      "cell_type": "code",
      "metadata": {
        "id": "pnKUQvJbfdbF",
        "colab_type": "code",
        "colab": {}
      },
      "source": [
        "import torch.nn as nn\n",
        "import torch.nn.functional as F\n",
        "\n",
        "###############################################\n",
        "# TODO1: Create a network with only one linear layer (as in the regression example)\n",
        "# TODO2: Add more layers (after running the first time)\n",
        "class Net(nn.Module):\n",
        "    def __init__(self):\n",
        "        super(Net, self).__init__()\n",
        "        ...\n",
        "\n",
        "    # Input: Receives a sinogram of shape detectors x angles \n",
        "    # Output: Returns an image (reconstruction) of size n x m\n",
        "    def forward(self, x):\n",
        "        ...\n",
        "###############################################\n",
        "\n",
        "model = Net()\n",
        "print(model)"
      ],
      "execution_count": 0,
      "outputs": []
    },
    {
      "cell_type": "markdown",
      "metadata": {
        "id": "Kj1VrUiyfdbL",
        "colab_type": "text"
      },
      "source": [
        "## Set the hyperparameters, the loss function and the optimizer"
      ]
    },
    {
      "cell_type": "code",
      "metadata": {
        "id": "_6Gm28BIfdbN",
        "colab_type": "code",
        "colab": {}
      },
      "source": [
        "# learning rate\n",
        "lr = 0.001\n",
        "\n",
        "# number of epochs\n",
        "n_epochs = 10\n",
        "\n",
        "###############################################\n",
        "# TODO: Choose the loss function\n",
        "loss_function = ...\n",
        "###############################################\n",
        "\n",
        "\n",
        "###############################################\n",
        "# TODO: Choose the optimizer\n",
        "optimizer = ...\n",
        "###############################################\n",
        "\n",
        "# set device to use\n",
        "device = 'cuda' if torch.cuda.is_available() else 'cpu'\n",
        "print(device)"
      ],
      "execution_count": 0,
      "outputs": []
    },
    {
      "cell_type": "markdown",
      "metadata": {
        "id": "Rx9FhwlOfdbT",
        "colab_type": "text"
      },
      "source": [
        "## Train the network"
      ]
    },
    {
      "cell_type": "code",
      "metadata": {
        "id": "6efq_kosfdbW",
        "colab_type": "code",
        "colab": {}
      },
      "source": [
        "from skimage.measure import compare_psnr\n",
        "\n",
        "model.to(device)\n",
        "\n",
        "# iterate over epochs\n",
        "for i in range(n_epochs):\n",
        "  \n",
        "    train_loss = 0.0\n",
        "    test_loss = 0.0\n",
        "\n",
        "    model.train()\n",
        "    # iterate over batches\n",
        "    for j, (x, y) in enumerate(train_loader):\n",
        "        x, y = x.to(device), y.to(device)\n",
        "\n",
        "        ######################################################\n",
        "        # TODO: Compute the output and do the backprop\n",
        "        # 1) zero the gradients\n",
        "        # 2) compute the output of the model\n",
        "        # 3) compute the loss function\n",
        "        # 4) backpropagate\n",
        "        # 5) do a gradient step\n",
        "        \n",
        "        ...\n",
        "        ######################################################\n",
        "\n",
        "        train_loss += loss.item() * x.shape[0]\n",
        "        if j % 200 == 0:\n",
        "            print('%d/%d' % (j, len(train_loader)))\n",
        "      \n",
        "    \n",
        "    model.eval()\n",
        "    # iterate on batches\n",
        "    for x, y in test_loader:\n",
        "        x, y = x.to(device), y.to(device)\n",
        "        \n",
        "        ######################################################\n",
        "        # TODO: Evaluate the performance of the current parameters\n",
        "        # 1) compute the output of the network\n",
        "        # 2) compute the loss function\n",
        "        ...\n",
        "        ######################################################\n",
        "\n",
        "        test_loss += loss.item() * x.shape[0]\n",
        "\n",
        "    train_loss /= len(mnist_train)\n",
        "    test_loss /= len(mnist_test)\n",
        "\n",
        "    print('epoch: %d train-error: %.5f test-error: %.4f' % (i, train_loss, test_loss))"
      ],
      "execution_count": 0,
      "outputs": []
    },
    {
      "cell_type": "markdown",
      "metadata": {
        "id": "CdbCcJlqfdbf",
        "colab_type": "text"
      },
      "source": [
        "## Evaluate the average performance (PSNR)"
      ]
    },
    {
      "cell_type": "code",
      "metadata": {
        "id": "SV4MFf4Xfdbh",
        "colab_type": "code",
        "colab": {}
      },
      "source": [
        "def PSNR(imtrue, imother):\n",
        "    return compare_psnr(imtrue, imother, data_range=imtrue.max()-imtrue.min())\n",
        "\n",
        "model.eval()\n",
        "# iterate on batches\n",
        "\n",
        "psnr = 0\n",
        "for x, y in test_loader:\n",
        "    x, y = x.to(device), y.to(device)\n",
        "    outputs = model(y)\n",
        "    \n",
        "    for j in range(x.shape[0]):\n",
        "        psnr += PSNR(x[j].cpu().numpy(), outputs[j].detach().cpu().numpy())\n",
        "        \n",
        "psnr /= len(mnist_test)\n",
        "print(psnr)"
      ],
      "execution_count": 0,
      "outputs": []
    },
    {
      "cell_type": "markdown",
      "metadata": {
        "id": "5W6KV1rGfdbk",
        "colab_type": "text"
      },
      "source": [
        "## Show some examples"
      ]
    },
    {
      "cell_type": "code",
      "metadata": {
        "scrolled": false,
        "id": "Nq8ms1bOfdbm",
        "colab_type": "code",
        "colab": {}
      },
      "source": [
        "import torch.nn.functional as F\n",
        "from skimage.transform import iradon\n",
        "\n",
        "\n",
        "model.to(device)\n",
        "model.eval()\n",
        "\n",
        "# first batch of data pairs\n",
        "x, y = next(iter(test_loader))\n",
        "\n",
        "########################################################\n",
        "# TODO compute the output of the network\n",
        "outputs = ...\n",
        "########################################################\n",
        "\n",
        "for i in range(x.shape[0]):\n",
        "    plt.figure(figsize=(15, 4))\n",
        "   \n",
        "    plt.subplot(1,3,1)\n",
        "    \n",
        "    plt.imshow(x[i].squeeze())\n",
        "    plt.axis('off')\n",
        "    \n",
        "    plt.subplot(1,3,2)\n",
        "    \n",
        "    x_rec = iradon(y[i].cpu().numpy(), theta, circle=False)\n",
        "    plt.imshow(x_rec)\n",
        "    psnr1 = PSNR(x[i][0].cpu().numpy(), x_rec)\n",
        "    \n",
        "    plt.title('PSNR: %.2f' % psnr1)\n",
        "    plt.axis('off')\n",
        "\n",
        "    plt.subplot(1,3,3)\n",
        "    psnr2 = PSNR(x[i].cpu().numpy(), outputs[i].detach().cpu().numpy())\n",
        "    plt.title('PSNR: %.2f' % psnr2)\n",
        "    \n",
        "    plt.imshow(outputs[i].detach().cpu().numpy().squeeze())\n",
        "    plt.axis('off')\n",
        "    \n",
        "    plt.show()"
      ],
      "execution_count": 0,
      "outputs": []
    }
  ]
}