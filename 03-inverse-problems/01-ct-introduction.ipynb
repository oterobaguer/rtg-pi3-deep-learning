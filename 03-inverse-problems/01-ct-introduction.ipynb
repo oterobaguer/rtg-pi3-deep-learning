{
 "cells": [
  {
   "cell_type": "markdown",
   "metadata": {},
   "source": [
    "# Introduction to CT\n",
    "\n",
    "In this exercise sheet we will get to know the Computed Tomography reconstruction problem\n",
    "\n",
    "## Load Data"
   ]
  },
  {
   "cell_type": "code",
   "execution_count": null,
   "metadata": {},
   "outputs": [],
   "source": [
    "import torch\n",
    "import matplotlib.pyplot as plt\n",
    "from torchvision import datasets, transforms\n",
    "%matplotlib inline\n",
    "\n",
    "batch_size = 4\n",
    "\n",
    "# datasets (MNIST)\n",
    "transform_test = transforms.Compose([\n",
    "    transforms.ToTensor()\n",
    "])\n",
    "mnist_test = datasets.MNIST('/data', train=False, download=True, transform=transform_test)\n",
    "\n",
    "# dataloaders\n",
    "test_loader = torch.utils.data.DataLoader(mnist_test, batch_size=batch_size)\n",
    "\n",
    "batch, labels = next(iter(test_loader))\n",
    "\n",
    "phantoms = [batch[i][0].numpy() for i in range(batch_size)]\n",
    "\n",
    "\n",
    "##########################################\n",
    "# TODO: show first phantom\n",
    "...\n",
    "##########################################"
   ]
  },
  {
   "cell_type": "markdown",
   "metadata": {},
   "source": [
    "## Computed Tomography\n",
    "\n",
    "In computed tomography, the tomography reconstruction problem is to obtain a tomographic slice image from a set of projections 1. A projection is formed by drawing a set of parallel rays through the 2D object of interest, assigning the integral of the object’s contrast along each ray to a single pixel in the projection. A single projection of a 2D object is one dimensional. To enable computed tomography reconstruction of the object, several projections must be acquired, each of them corresponding to a different angle between the rays with respect to the object. A collection of projections at several angles is called a sinogram, which is a linear transform of the original image."
   ]
  },
  {
   "cell_type": "code",
   "execution_count": null,
   "metadata": {},
   "outputs": [],
   "source": [
    "import numpy as np\n",
    "from skimage.transform import radon\n",
    "\n",
    "n, m = 28, 28\n",
    "\n",
    "##########################################\n",
    "# TODO: specify number of angles!\n",
    "angles = ...\n",
    "##########################################\n",
    "\n",
    "detectors = 40\n",
    "\n",
    "##########################################\n",
    "# TODO: create operator matrix filled with zeros\n",
    "operator = ...\n",
    "##########################################\n",
    "\n",
    "theta = np.linspace(0.0, 180.0, angles, endpoint=False)\n",
    "\n",
    "for i in range(n * m):\n",
    "    unit = np.zeros(n * m)\n",
    "    unit[i] = 1\n",
    "    operator[:, i] = radon(unit.reshape(n, m), theta, circle=False).reshape(-1)"
   ]
  },
  {
   "cell_type": "code",
   "execution_count": null,
   "metadata": {},
   "outputs": [],
   "source": [
    "sinograms = []\n",
    "for phantom in phantoms:\n",
    "    plt.figure(figsize=(10, 4))\n",
    "\n",
    "    # clean image\n",
    "    plt.subplot(1, 3, 1)\n",
    "    plt.imshow(phantom)\n",
    "\n",
    "    # clean sinogram\n",
    "    \n",
    "    ##########################################\n",
    "    # TODO: multiply operator matrix with phantom to get sinogram\n",
    "    sinogram = ...\n",
    "    ##########################################\n",
    "    \n",
    "    plt.subplot(1, 3, 2)\n",
    "    plt.title('Clean sinogram')\n",
    "    plt.imshow(sinogram)\n",
    "\n",
    "    # noisy sinogram\n",
    "    plt.subplot(1, 3, 3)\n",
    "    \n",
    "    ##########################################\n",
    "    # TODO: add noise to the sinogram\n",
    "    sinogram += ...\n",
    "    ##########################################\n",
    "    \n",
    "    sinograms.append(sinogram)\n",
    "    plt.title('Noisy sinogram')\n",
    "    plt.imshow(sinogram)"
   ]
  },
  {
   "cell_type": "markdown",
   "metadata": {},
   "source": [
    "# Direct Inverse"
   ]
  },
  {
   "cell_type": "code",
   "execution_count": null,
   "metadata": {},
   "outputs": [],
   "source": [
    "from skimage.measure import compare_psnr\n",
    "\n",
    "\n",
    "plt.figure(figsize=(15, 4))\n",
    "for i, phantom in enumerate(phantoms):\n",
    "    plt.subplot(1, len(phantoms), i+1)\n",
    "    \n",
    "    ##########################################\n",
    "    # TODO: compute direct inverse by inverting the matrix\n",
    "    x_rec = ...\n",
    "    ##########################################\n",
    "    \n",
    "    plt.xlabel('PSNR: %.2f' % compare_psnr(phantom, x_rec))\n",
    "    plt.imshow(x_rec)"
   ]
  },
  {
   "cell_type": "markdown",
   "metadata": {},
   "source": [
    "# Filtered Back Projection"
   ]
  },
  {
   "cell_type": "code",
   "execution_count": null,
   "metadata": {},
   "outputs": [],
   "source": [
    "from skimage.transform import iradon\n",
    "\n",
    "plt.figure(figsize=(15, 4))\n",
    "\n",
    "for i, phantom in enumerate(phantoms):\n",
    "    plt.subplot(1, len(phantoms), i+1)\n",
    "    x_rec = iradon(sinograms[i], theta, circle=False)\n",
    "    plt.xlabel('PSNR: %.2f' % compare_psnr(phantom, x_rec))\n",
    "    plt.imshow(x_rec)"
   ]
  },
  {
   "cell_type": "markdown",
   "metadata": {},
   "source": [
    "# TSVD"
   ]
  },
  {
   "cell_type": "code",
   "execution_count": null,
   "metadata": {},
   "outputs": [],
   "source": [
    "##########################################\n",
    "# TODO: Compute SVD of the operator and plot the singular values\n",
    "U, S, V = ...\n",
    "\n",
    "##########################################"
   ]
  },
  {
   "cell_type": "code",
   "execution_count": null,
   "metadata": {},
   "outputs": [],
   "source": [
    "def truncated_svd(U, S, V, y, k):\n",
    "    S_inv = []\n",
    "    sigma = np.zeros((V.shape[0], U.shape[0]))\n",
    "    \n",
    "    for i in range(len(S)):\n",
    "        if i < k and S[i] > 1e-9:\n",
    "            sigma[i,i] = 1/S[i]\n",
    "        else:\n",
    "            sigma[i,i] = 0\n",
    "    \n",
    "    A_inv = np.dot(np.dot(V.T, sigma), U.T)\n",
    "    return np.dot(A_inv, y)\n",
    "\n",
    "\n",
    "for k in [len(S)//8, len(S)//4, len(S)//2, 3*len(S)//4, 7*len(S)//8, len(S)]:\n",
    "    plt.figure(figsize=(15, 4))\n",
    "\n",
    "    for i, phantom in enumerate(phantoms):\n",
    "        plt.subplot(1, len(phantoms), i+1)\n",
    "        x_rec = truncated_svd(U, S, V, sinograms[i].reshape(-1), k).reshape(n,m)\n",
    "        plt.title(r'$k=%d$' % k)\n",
    "        plt.xlabel('PSNR: %.2f' % compare_psnr(phantom, x_rec))\n",
    "        plt.imshow(x_rec)\n",
    "        \n",
    "    plt.show()"
   ]
  }
 ],
 "metadata": {
  "kernelspec": {
   "display_name": "Python 3",
   "language": "python",
   "name": "python3"
  },
  "language_info": {
   "codemirror_mode": {
    "name": "ipython",
    "version": 3
   },
   "file_extension": ".py",
   "mimetype": "text/x-python",
   "name": "python",
   "nbconvert_exporter": "python",
   "pygments_lexer": "ipython3",
   "version": "3.6.8"
  }
 },
 "nbformat": 4,
 "nbformat_minor": 2
}
