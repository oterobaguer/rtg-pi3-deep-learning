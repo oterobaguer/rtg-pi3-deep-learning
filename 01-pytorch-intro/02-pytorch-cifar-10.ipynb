{
  "nbformat": 4,
  "nbformat_minor": 0,
  "metadata": {
    "colab": {
      "name": "handout 4.ipynb",
      "provenance": [],
      "collapsed_sections": []
    },
    "kernelspec": {
      "name": "python3",
      "display_name": "Python 3"
    },
    "accelerator": "GPU"
  },
  "cells": [
    {
      "cell_type": "markdown",
      "metadata": {
        "id": "_13vj6bPwCYk",
        "colab_type": "text"
      },
      "source": [
        "# Hands-On Session No. 4\n",
        "## (Training CNNs on CIFAR10)\n",
        "\n",
        "\n",
        "\n",
        "\n",
        "### Q1: Load the CIFAR10 data and visualize the first batch\n",
        "a) Try some data augmentation"
      ]
    },
    {
      "cell_type": "code",
      "metadata": {
        "id": "J-O9gyVxwBQZ",
        "colab_type": "code",
        "colab": {}
      },
      "source": [
        "import torch\n",
        "\n",
        "import matplotlib.pyplot as plt\n",
        "\n",
        "from torchvision import datasets, transforms\n",
        "  \n",
        "\n",
        "batch_size = 32\n",
        "\n",
        "transform_train = transforms.Compose([\n",
        "#     transforms.RandomCrop(32, padding=4),\n",
        "#     transforms.RandomHorizontalFlip(),\n",
        "    transforms.ToTensor()\n",
        "])\n",
        "\n",
        "transform_test = transforms.Compose([\n",
        "    transforms.ToTensor()\n",
        "])\n",
        "\n",
        "\n",
        "# datasets (CIFAR10)\n",
        "mnist_train = datasets.CIFAR10('/data', train=True, download=True, transform=transform_train)\n",
        "mnist_test = datasets.CIFAR10('/data', train=False, download=True, transform=transform_test)\n",
        "\n",
        "# dataloaders\n",
        "train_loader = torch.utils.data.DataLoader(mnist_train, batch_size=batch_size, shuffle=True, pin_memory=True)\n",
        "test_loader = torch.utils.data.DataLoader(mnist_test, batch_size=batch_size, shuffle=False, pin_memory=True)\n",
        "\n",
        "\n",
        "def visualize_batch(batch, labels, ncols=8):\n",
        "  nrows = (batch.shape[0] + ncols - 1) // ncols\n",
        "  plt.figure(figsize=(15, 2*nrows))\n",
        "  for i in range(batch.shape[0]):\n",
        "    plt.subplot(nrows, ncols, i+1)\n",
        "    plt.imshow(batch[i].permute(1, 2, 0).squeeze(), interpolation='bilinear')\n",
        "    plt.title(labels[i])\n",
        "    plt.axis('off')\n",
        "  plt.tight_layout()\n",
        "  plt.show()\n",
        "\n",
        "\n",
        "label_names = ['airplane', 'automobile', 'bird', 'cat', 'deer', 'dog', 'frog', 'horse', 'ship', 'truck']\n",
        "\n",
        "##################  Change these lines  ####################################\n",
        "# TODO: use the above function to visualize the first batch of the dataset\n",
        "\n",
        "\n",
        "##################  Finish changing here  ##################################"
      ],
      "execution_count": 0,
      "outputs": []
    },
    {
      "cell_type": "markdown",
      "metadata": {
        "id": "vCiHLpyH1RQc",
        "colab_type": "text"
      },
      "source": [
        "### Q1: Create the network\n",
        "a) Try with different models and make your own variations"
      ]
    },
    {
      "cell_type": "code",
      "metadata": {
        "id": "VsRt-G3U0_it",
        "colab_type": "code",
        "colab": {}
      },
      "source": [
        "import torch.nn as nn\n",
        "\n",
        "class Flatten(nn.Module):\n",
        "    def forward(self, x):\n",
        "        out = x.view(x.shape[0],-1)\n",
        "        return out\n",
        "\n",
        "##################  Change these lines  ####################################\n",
        "model = nn.Sequential(\n",
        "    # TODO: create a linear network\n",
        "    Flatten(),\n",
        "    nn.Linear(32*32*3, 10)\n",
        ")\n",
        "##################  Finish changing here  ##################################\n",
        "\n",
        "##################  Change these lines  ####################################\n",
        "# TODO: create a CNN\n",
        "# model = nn.Sequential(\n",
        "#     nn.Conv2d(in_channels=3, out_channels=8, kernel_size=5,),\n",
        "#     # ....\n",
        "# )\n",
        "##################  Finish changing here  ##################################\n",
        "\n",
        "\n",
        "# class Net(nn.Module):\n",
        "\n",
        "#     def __init__(self):\n",
        "#         super(Net, self).__init__()\n",
        "\n",
        "#         self.conv_layer = nn.Sequential(\n",
        "\n",
        "#             # Conv Layer block 1\n",
        "#             nn.Conv2d(in_channels=3, out_channels=32, kernel_size=3, padding=1),\n",
        "#             nn.BatchNorm2d(32),\n",
        "#             nn.ReLU(inplace=True),\n",
        "#             nn.Conv2d(in_channels=32, out_channels=64, kernel_size=3, padding=1),\n",
        "#             nn.ReLU(inplace=True),\n",
        "#             nn.MaxPool2d(kernel_size=2, stride=2),\n",
        "\n",
        "#             # Conv Layer block 2\n",
        "#             nn.Conv2d(in_channels=64, out_channels=128, kernel_size=3, padding=1),\n",
        "#             nn.BatchNorm2d(128),\n",
        "#             nn.ReLU(inplace=True),\n",
        "#             nn.Conv2d(in_channels=128, out_channels=128, kernel_size=3, padding=1),\n",
        "#             nn.ReLU(inplace=True),\n",
        "#             nn.MaxPool2d(kernel_size=2, stride=2),\n",
        "#             nn.Dropout2d(p=0.05),\n",
        "\n",
        "#             # Conv Layer block 3\n",
        "#             nn.Conv2d(in_channels=128, out_channels=256, kernel_size=3, padding=1),\n",
        "#             nn.BatchNorm2d(256),\n",
        "#             nn.ReLU(inplace=True),\n",
        "#             nn.Conv2d(in_channels=256, out_channels=256, kernel_size=3, padding=1),\n",
        "#             nn.ReLU(inplace=True),\n",
        "#             nn.MaxPool2d(kernel_size=2, stride=2),\n",
        "#         )\n",
        "\n",
        "\n",
        "#         self.fc_layer = nn.Sequential(\n",
        "#             nn.Dropout(p=0.1),\n",
        "#             nn.Linear(4096, 1024),\n",
        "#             nn.ReLU(inplace=True),\n",
        "#             nn.Linear(1024, 512),\n",
        "#             nn.ReLU(inplace=True),\n",
        "#             nn.Dropout(p=0.1),\n",
        "#             nn.Linear(512, 10)\n",
        "#         )\n",
        "\n",
        "\n",
        "#     def forward(self, x):\n",
        "#         x = self.conv_layer(x)\n",
        "#         x = x.view(x.size(0), -1)\n",
        "#         x = self.fc_layer(x)\n",
        "#         return x\n",
        "\n",
        "# model = Net()"
      ],
      "execution_count": 0,
      "outputs": []
    },
    {
      "cell_type": "markdown",
      "metadata": {
        "id": "ejQHu0eiJuAS",
        "colab_type": "text"
      },
      "source": [
        "### Q3: Set the hyperparameters, the loss function and the optimizer\n",
        "a) Try first with SGD and then with the Adam optimization method"
      ]
    },
    {
      "cell_type": "code",
      "metadata": {
        "id": "98-dOGz0JxSy",
        "colab_type": "code",
        "colab": {}
      },
      "source": [
        "# learning rate\n",
        "lr = 0.001\n",
        "\n",
        "# number of epochs\n",
        "n_epochs = 10\n",
        "\n",
        "# loss function\n",
        "lossf = torch.nn.CrossEntropyLoss()\n",
        "\n",
        "##################  Change these lines  ####################################\n",
        "# TODO: define the optimizer\n",
        "optimizer = ...\n",
        "##################  Finish changing here  ##################################\n",
        "\n",
        "# set device to use\n",
        "device = 'cuda' if torch.cuda.is_available() else 'cpu'\n",
        "print(device)\n",
        "model.to(device)"
      ],
      "execution_count": 0,
      "outputs": []
    },
    {
      "cell_type": "markdown",
      "metadata": {
        "id": "AUahzEBjj6tz",
        "colab_type": "text"
      },
      "source": [
        "### Q4: Train the network"
      ]
    },
    {
      "cell_type": "code",
      "metadata": {
        "id": "iwMbWezlKQJ6",
        "colab_type": "code",
        "colab": {}
      },
      "source": [
        "# iterate on epochs\n",
        "for i in range(n_epochs):\n",
        "  \n",
        "  train_loss = 0.0\n",
        "  train_accuracy = 0.0\n",
        "  test_accuracy = 0.0\n",
        "  \n",
        "  \n",
        "  model.train()\n",
        "  # iterate on batches\n",
        "  for samples, targets in train_loader:\n",
        "    samples, targets = samples.to(device), targets.to(device)\n",
        "    \n",
        "    ##################  Change these lines  ####################################\n",
        "    # TODO: compute the ouput of the network, the loss, do the backprop and an \n",
        "    # optimization step\n",
        "    \n",
        "    \n",
        "    \n",
        "    \n",
        "    ##################  Finish changing here  ##################################\n",
        "    \n",
        "    train_loss += loss.mean().item() * samples.shape[0]\n",
        "    train_accuracy += torch.sum(outputs.max(dim=1)[1] == targets).item() \n",
        "    \n",
        "  \n",
        "  model.eval()\n",
        "  # iterate on batches\n",
        "  for samples, targets in test_loader:\n",
        "    samples, targets = samples.to(device), targets.to(device)\n",
        "    outputs = model(samples)\n",
        "    test_accuracy += torch.sum(outputs.max(dim=1)[1] == targets).item() \n",
        "    \n",
        "  train_loss /= len(mnist_train)\n",
        "  train_accuracy /= len(mnist_train)\n",
        "  test_accuracy /= len(mnist_test)\n",
        "  \n",
        "  print('epoch: %d train-error: %.4f train-acc: %.4f test-acc: %.4f' % (i, train_loss, train_accuracy, test_accuracy))"
      ],
      "execution_count": 0,
      "outputs": []
    },
    {
      "cell_type": "markdown",
      "metadata": {
        "id": "nzNG9Qx6j4y4",
        "colab_type": "text"
      },
      "source": [
        "### Q5: Show some prediction examples"
      ]
    },
    {
      "cell_type": "code",
      "metadata": {
        "id": "tyQx6jKETeBJ",
        "colab_type": "code",
        "colab": {}
      },
      "source": [
        "model.cpu()\n",
        "samples, labels = next(iter(test_loader))\n",
        "outputs = model(samples)\n",
        "pred = outputs.max(dim=1)[1]\n",
        "visualize_batch(batch, ['%s/%s' % (label_names[labels[i]], label_names[pred[i]]) for i in range(len(labels))])"
      ],
      "execution_count": 0,
      "outputs": []
    },
    {
      "cell_type": "markdown",
      "metadata": {
        "id": "o7NNvtTpkKPl",
        "colab_type": "text"
      },
      "source": [
        "### Q6: Show the confussion matrix"
      ]
    },
    {
      "cell_type": "code",
      "metadata": {
        "id": "J-FVqzhUf5bv",
        "colab_type": "code",
        "colab": {}
      },
      "source": [
        "import numpy as np\n",
        "\n",
        "model.to(device)\n",
        "model.eval()\n",
        "matrix = np.zeros(shape=(10,10))\n",
        "# iterate on batches\n",
        "for samples, targets in test_loader:\n",
        "  samples, targets = samples.to(device), targets.to(device)\n",
        "  outputs = model(samples)\n",
        "  pred = outputs.max(dim=1)[1]\n",
        "  \n",
        "  ##################  Change these lines  ####################################\n",
        "  # TODO: update the confussion matrix   \n",
        "  \n",
        "  \n",
        "  \n",
        "  ##################  Finish changing here  ################################## \n",
        "\n",
        "\n",
        "plt.imshow(matrix)\n",
        "plt.xticks(range(10), label_names, rotation='vertical');\n",
        "plt.yticks(range(10), label_names);"
      ],
      "execution_count": 0,
      "outputs": []
    },
    {
      "cell_type": "markdown",
      "metadata": {
        "id": "Nst5793vlHh5",
        "colab_type": "text"
      },
      "source": [
        "### Q7: Show the probabilities"
      ]
    },
    {
      "cell_type": "code",
      "metadata": {
        "id": "LvrLrVPxlPao",
        "colab_type": "code",
        "colab": {}
      },
      "source": [
        "import torch.nn.functional as F\n",
        "\n",
        "\n",
        "batch, labels = next(iter(test_loader))\n",
        "model.cpu()\n",
        "model.eval()\n",
        "\n",
        "for i in range(10):\n",
        "    plt.figure(figsize=(8,2))\n",
        "    test_image = batch[i]\n",
        "    \n",
        "    plt.subplot(1,2,1)\n",
        "    plt.imshow(test_image.permute(1, 2, 0).squeeze(), interpolation='bilinear')\n",
        "    plt.axis('off')\n",
        "\n",
        "    plt.subplot(1,2,2)\n",
        "    \n",
        "    ##################  Change these lines  ####################################\n",
        "    # TODO: fix the probabilities (to be between 0 and 1)\n",
        "    p = model(test_image[None]).detach().squeeze()\n",
        "    ##################  Finish changing here  ##################################\n",
        "    \n",
        "    plt.bar(range(len(p)), p)\n",
        "    plt.xticks(range(len(p)), label_names, rotation='vertical')\n",
        "    plt.show()"
      ],
      "execution_count": 0,
      "outputs": []
    }
  ]
}