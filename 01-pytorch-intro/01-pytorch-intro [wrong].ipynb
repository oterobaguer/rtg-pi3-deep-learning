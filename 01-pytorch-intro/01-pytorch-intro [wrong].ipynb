{
  "nbformat": 4,
  "nbformat_minor": 0,
  "metadata": {
    "kernelspec": {
      "display_name": "Python 3",
      "language": "python",
      "name": "python3"
    },
    "language_info": {
      "codemirror_mode": {
        "name": "ipython",
        "version": 3
      },
      "file_extension": ".py",
      "mimetype": "text/x-python",
      "name": "python",
      "nbconvert_exporter": "python",
      "pygments_lexer": "ipython3",
      "version": "3.6.8"
    },
    "colab": {
      "name": "01-pytorch-intro.ipynb",
      "provenance": [],
      "collapsed_sections": []
    }
  },
  "cells": [
    {
      "cell_type": "markdown",
      "metadata": {
        "id": "7bvGuyj6SKMj",
        "colab_type": "text"
      },
      "source": [
        "# Introduction to PyTorch\n"
      ]
    },
    {
      "cell_type": "markdown",
      "metadata": {
        "id": "Q3dnQsFsSKMj",
        "colab_type": "text"
      },
      "source": [
        "Python-based scientific computing package for two main purposes:\n",
        "\n",
        "* Replacement for **NumPy** to use the power of GPUs\n",
        "* **Deep learning** research platform that provides maximum flexibility and speed\n",
        "\n",
        "\n",
        "Sources:\n",
        "\n",
        "\n",
        "*   https://towardsdatascience.com/understanding-pytorch-with-an-example-a-step-by-step-tutorial-81fc5f8c4e8e\n",
        "*   https://pytorch.org/tutorials/beginner/blitz/autograd_tutorial.html\n",
        "\n"
      ]
    },
    {
      "cell_type": "markdown",
      "metadata": {
        "id": "vMx5frqYSKMk",
        "colab_type": "text"
      },
      "source": [
        "### 1) Basic operations"
      ]
    },
    {
      "cell_type": "code",
      "metadata": {
        "id": "XkKj-EOBSKMl",
        "colab_type": "code",
        "colab": {
          "base_uri": "https://localhost:8080/",
          "height": 218
        },
        "outputId": "eff8334c-ecb6-48a2-8ca8-228f6765e919"
      },
      "source": [
        "import numpy as np\n",
        "\n",
        "x = np.zeros((3, 3))\n",
        "print(x)\n",
        "\n",
        "y = x + 1\n",
        "print(y)\n",
        "\n",
        "z = np.random.randn(3, 3)\n",
        "print(z)\n",
        "\n",
        "print(y.dot(z))"
      ],
      "execution_count": 4,
      "outputs": [
        {
          "output_type": "stream",
          "text": [
            "[[0. 0. 0.]\n",
            " [0. 0. 0.]\n",
            " [0. 0. 0.]]\n",
            "[[1. 1. 1.]\n",
            " [1. 1. 1.]\n",
            " [1. 1. 1.]]\n",
            "[[-0.875132    0.742922    0.19408228]\n",
            " [-1.99710463  0.74866643 -0.32049004]\n",
            " [ 0.46980438 -2.34333524  0.51171868]]\n",
            "[[-2.40243225 -0.85174681  0.38531092]\n",
            " [-2.40243225 -0.85174681  0.38531092]\n",
            " [-2.40243225 -0.85174681  0.38531092]]\n"
          ],
          "name": "stdout"
        }
      ]
    },
    {
      "cell_type": "code",
      "metadata": {
        "id": "V2zMTcwaPUXV",
        "colab_type": "code",
        "colab": {
          "base_uri": "https://localhost:8080/",
          "height": 218
        },
        "outputId": "53c753ad-750d-43a9-904a-47c2af0d0f68"
      },
      "source": [
        "import torch\n",
        "\n",
        "x = torch.zeros(3, 3)\n",
        "print(x)\n",
        "\n",
        "y = x + 1\n",
        "print(y)\n",
        "\n",
        "z = torch.randn(3, 3)\n",
        "print(z)\n",
        "\n",
        "print(y.matmul(z))"
      ],
      "execution_count": 9,
      "outputs": [
        {
          "output_type": "stream",
          "text": [
            "tensor([[0., 0., 0.],\n",
            "        [0., 0., 0.],\n",
            "        [0., 0., 0.]])\n",
            "tensor([[1., 1., 1.],\n",
            "        [1., 1., 1.],\n",
            "        [1., 1., 1.]])\n",
            "tensor([[ 1.0482,  0.9589,  0.2318],\n",
            "        [-0.5056,  1.7084,  0.1995],\n",
            "        [ 1.2904,  0.0182, -0.1534]])\n",
            "tensor([[1.8330, 2.6854, 0.2779],\n",
            "        [1.8330, 2.6854, 0.2779],\n",
            "        [1.8330, 2.6854, 0.2779]])\n"
          ],
          "name": "stdout"
        }
      ]
    },
    {
      "cell_type": "markdown",
      "metadata": {
        "id": "EvNFlvMrSKMo",
        "colab_type": "text"
      },
      "source": [
        "### 2) Bridge to NumPy"
      ]
    },
    {
      "cell_type": "code",
      "metadata": {
        "id": "84OXjbq_SKMo",
        "colab_type": "code",
        "colab": {
          "base_uri": "https://localhost:8080/",
          "height": 168
        },
        "outputId": "c2aceb3e-02c1-4868-9f19-9b88f6f4e907"
      },
      "source": [
        "print(y)\n",
        "\n",
        "z = y.numpy()\n",
        "print(z)\n",
        "\n",
        "q = torch.from_numpy(z)\n",
        "print(q)"
      ],
      "execution_count": 12,
      "outputs": [
        {
          "output_type": "stream",
          "text": [
            "tensor([[1., 1., 1.],\n",
            "        [1., 1., 1.],\n",
            "        [1., 1., 1.]])\n",
            "[[1. 1. 1.]\n",
            " [1. 1. 1.]\n",
            " [1. 1. 1.]]\n",
            "tensor([[1., 1., 1.],\n",
            "        [1., 1., 1.],\n",
            "        [1., 1., 1.]])\n"
          ],
          "name": "stdout"
        }
      ]
    },
    {
      "cell_type": "markdown",
      "metadata": {
        "id": "3Y-9sMUBSKMr",
        "colab_type": "text"
      },
      "source": [
        "### 3) Automatic Differentiation\n",
        "\n",
        "Mathematically, if you have a vector valued function $y=f(x)$, then the gradient of $y$  with respect to $x$  is a Jacobian matrix:\n",
        "\n",
        "\\begin{split}J=\\left(\\begin{array}{ccc}\n",
        " \\frac{\\partial y_{1}}{\\partial x_{1}} & \\cdots & \\frac{\\partial y_{1}}{\\partial x_{n}}\\\\\n",
        " \\vdots & \\ddots & \\vdots\\\\\n",
        " \\frac{\\partial y_{m}}{\\partial x_{1}} & \\cdots & \\frac{\\partial y_{m}}{\\partial x_{n}}\n",
        " \\end{array}\\right)\\end{split}\n",
        "\n",
        "Generally speaking, `torch.autograd` is an engine for computing vector-Jacobian product. That is, given any vector $v=\\left(\\begin{array}{cccc} v_{1} & v_{2} & \\cdots & v_{m}\\end{array}\\right)^{T}$  compute the product   $v^{T}\\cdot J$.\n",
        "\n",
        "\n",
        "If $v$ happens to be happens to be the gradient of a scalar function $l = g(y)$, that is $v=\\left(\\begin{array}{ccc}\\frac{\\partial l}{\\partial y_{1}} & \\cdots & \\frac{\\partial l}{\\partial y_{m}}\\end{array}\\right)^{T}$, then by the chain rule, the vector-Jacobian product would be the gradient of $l$ with respect to $x$:\n",
        "\n",
        "\\begin{split}J^{T}\\cdot v=\\left(\\begin{array}{ccc}\n",
        " \\frac{\\partial y_{1}}{\\partial x_{1}} & \\cdots & \\frac{\\partial y_{m}}{\\partial x_{1}}\\\\\n",
        " \\vdots & \\ddots & \\vdots\\\\\n",
        " \\frac{\\partial y_{1}}{\\partial x_{n}} & \\cdots & \\frac{\\partial y_{m}}{\\partial x_{n}}\n",
        " \\end{array}\\right)\\left(\\begin{array}{c}\n",
        " \\frac{\\partial l}{\\partial y_{1}}\\\\\n",
        " \\vdots\\\\\n",
        " \\frac{\\partial l}{\\partial y_{m}}\n",
        " \\end{array}\\right)=\\left(\\begin{array}{c}\n",
        " \\frac{\\partial l}{\\partial x_{1}}\\\\\n",
        " \\vdots\\\\\n",
        " \\frac{\\partial l}{\\partial x_{n}}\n",
        " \\end{array}\\right)\\end{split}\n"
      ]
    },
    {
      "cell_type": "code",
      "metadata": {
        "id": "F8QN3CQFSKMr",
        "colab_type": "code",
        "colab": {
          "base_uri": "https://localhost:8080/",
          "height": 84
        },
        "outputId": "4e3db249-5119-45af-8091-51102218a1b9"
      },
      "source": [
        "x1 = torch.tensor(2., requires_grad=True)\n",
        "x2 = torch.tensor(5., requires_grad=True)\n",
        "\n",
        "y = x1 * x2\n",
        "\n",
        "z = x1 + y\n",
        "\n",
        "q = torch.exp(z)\n",
        "\n",
        "q.backward()\n",
        "\n",
        "print(x1.grad)\n",
        "print(x2.grad)\n",
        "\n",
        "w = x1 + x2\n",
        "w.backward()\n",
        "\n",
        "print(x1.grad)\n",
        "print(x2.grad)"
      ],
      "execution_count": 27,
      "outputs": [
        {
          "output_type": "stream",
          "text": [
            "tensor(976528.8125)\n",
            "tensor(325509.5938)\n",
            "tensor(976529.8125)\n",
            "tensor(325510.5938)\n"
          ],
          "name": "stdout"
        }
      ]
    },
    {
      "cell_type": "markdown",
      "metadata": {
        "id": "BKX1k9JFSKMt",
        "colab_type": "text"
      },
      "source": [
        "### 4) Linear regression example"
      ]
    },
    {
      "cell_type": "code",
      "metadata": {
        "id": "TTFx62iBSKMu",
        "colab_type": "code",
        "colab": {
          "base_uri": "https://localhost:8080/",
          "height": 282
        },
        "outputId": "b02dd56f-5703-4308-a707-e5a34f200154"
      },
      "source": [
        "import matplotlib.pyplot as plt\n",
        "\n",
        "# generate some data\n",
        "n = 100\n",
        "w = 4\n",
        "b = 6\n",
        "\n",
        "x = torch.randn(n)\n",
        "y = x * w + b\n",
        "y += torch.randn(y.shape)\n",
        "\n",
        "plt.scatter(x, y)"
      ],
      "execution_count": 186,
      "outputs": [
        {
          "output_type": "execute_result",
          "data": {
            "text/plain": [
              "<matplotlib.collections.PathCollection at 0x7f9964f86208>"
            ]
          },
          "metadata": {
            "tags": []
          },
          "execution_count": 186
        },
        {
          "output_type": "display_data",
          "data": {
            "image/png": "[encoded data removed]",
            "text/plain": [
              "<Figure size 432x288 with 1 Axes>"
            ]
          },
          "metadata": {
            "tags": [],
            "needs_background": "light"
          }
        }
      ]
    },
    {
      "cell_type": "code",
      "metadata": {
        "id": "zUV1Bcn9U_Oa",
        "colab_type": "code",
        "colab": {
          "base_uri": "https://localhost:8080/",
          "height": 265
        },
        "outputId": "5712abd5-d41a-43d8-ccac-bfa039a58a73"
      },
      "source": [
        "var_w = torch.rand(1, requires_grad=True)\n",
        "var_b = torch.rand(1, requires_grad=True)\n",
        "\n",
        "\n",
        "def plot_model(w, b):\n",
        "    plt.scatter(x, y)    \n",
        "    plt.scatter(x, x * w.detach().numpy() + b.detach().numpy(), color='red')\n",
        "\n",
        "\n",
        "plot_model(var_w, var_b)"
      ],
      "execution_count": 190,
      "outputs": [
        {
          "output_type": "display_data",
          "data": {
            "image/png": "[encoded data removed]",
            "text/plain": [
              "<Figure size 432x288 with 1 Axes>"
            ]
          },
          "metadata": {
            "tags": [],
            "needs_background": "light"
          }
        }
      ]
    },
    {
      "cell_type": "code",
      "metadata": {
        "id": "oBjnzRfiVyvB",
        "colab_type": "code",
        "colab": {
          "base_uri": "https://localhost:8080/",
          "height": 185
        },
        "outputId": "8dbac48c-bade-4442-ec9c-9c1e34dfe6cf"
      },
      "source": [
        "lr = 0.001\n",
        "\n",
        "var_w = torch.rand(1, requires_grad=True)\n",
        "var_b = torch.rand(1, requires_grad=True)\n",
        "\n",
        "for i in range(1000):\n",
        "    f = x * var_w + var_b\n",
        "\n",
        "    loss = torch.sum((f - y) ** 2)\n",
        "\n",
        "    if var_w.grad is not None:\n",
        "        var_w.grad.zero_()\n",
        "        var_b.grad.zero_()\n",
        "\n",
        "    loss.backward()\n",
        "\n",
        "    if i % 100 == 0:\n",
        "        print(loss.item())\n",
        "\n",
        "    with torch.no_grad():\n",
        "        var_w -= lr * var_w.grad\n",
        "        var_b -= lr * var_b.grad"
      ],
      "execution_count": 191,
      "outputs": [
        {
          "output_type": "stream",
          "text": [
            "4606.12890625\n",
            "116.06273651123047\n",
            "116.06273651123047\n",
            "116.06273651123047\n",
            "116.06273651123047\n",
            "116.06273651123047\n",
            "116.06273651123047\n",
            "116.06273651123047\n",
            "116.06273651123047\n",
            "116.06273651123047\n"
          ],
          "name": "stdout"
        }
      ]
    },
    {
      "cell_type": "code",
      "metadata": {
        "id": "glXJrpjwZUEs",
        "colab_type": "code",
        "colab": {
          "base_uri": "https://localhost:8080/",
          "height": 298
        },
        "outputId": "487a26c1-6472-4a4a-f85b-945aa96e2fd7"
      },
      "source": [
        "plot_model(var_w, var_b)\n",
        "print(var_w)\n",
        "print(var_b)"
      ],
      "execution_count": 193,
      "outputs": [
        {
          "output_type": "stream",
          "text": [
            "tensor([3.7937], requires_grad=True)\n",
            "tensor([6.0320], requires_grad=True)\n"
          ],
          "name": "stdout"
        },
        {
          "output_type": "display_data",
          "data": {
            "image/png": "[encoded data removed]",
            "text/plain": [
              "<Figure size 432x288 with 1 Axes>"
            ]
          },
          "metadata": {
            "tags": [],
            "needs_background": "light"
          }
        }
      ]
    },
    {
      "cell_type": "markdown",
      "metadata": {
        "id": "mbdKs34xav4U",
        "colab_type": "text"
      },
      "source": [
        "## Fit non-linear model"
      ]
    },
    {
      "cell_type": "code",
      "metadata": {
        "id": "7qLrw5uxaynr",
        "colab_type": "code",
        "colab": {
          "base_uri": "https://localhost:8080/",
          "height": 282
        },
        "outputId": "fc3f50b8-e502-4270-8483-01e9eb2820c9"
      },
      "source": [
        "x = torch.rand(n) * 20\n",
        "y = 10 * torch.sin(x) + x\n",
        "y += torch.randn(y.shape)\n",
        "\n",
        "plt.scatter(x, y)"
      ],
      "execution_count": 213,
      "outputs": [
        {
          "output_type": "execute_result",
          "data": {
            "text/plain": [
              "<matplotlib.collections.PathCollection at 0x7f9964836518>"
            ]
          },
          "metadata": {
            "tags": []
          },
          "execution_count": 213
        },
        {
          "output_type": "display_data",
          "data": {
            "image/png": "[encoded data removed]",
            "text/plain": [
              "<Figure size 432x288 with 1 Axes>"
            ]
          },
          "metadata": {
            "tags": [],
            "needs_background": "light"
          }
        }
      ]
    },
    {
      "cell_type": "code",
      "metadata": {
        "id": "z66MKLlObP1q",
        "colab_type": "code",
        "colab": {
          "base_uri": "https://localhost:8080/",
          "height": 265
        },
        "outputId": "197064e7-e954-46e5-a7c4-3a9b3503935f"
      },
      "source": [
        "import torch.nn as nn\n",
        "\n",
        "\n",
        "def plot_model(model):\n",
        "    plt.scatter(x, y)\n",
        "    plt.scatter(x, model(x.view(-1, 1)).detach(), color='red')\n",
        "\n",
        "\n",
        "model = nn.Sequential(nn.Linear(1, 100), \n",
        "                      nn.Tanh(),\n",
        "                      nn.Linear(100, 1))\n",
        "\n",
        "plot_model(model)"
      ],
      "execution_count": 214,
      "outputs": [
        {
          "output_type": "display_data",
          "data": {
            "image/png": "[encoded data removed]",
            "text/plain": [
              "<Figure size 432x288 with 1 Axes>"
            ]
          },
          "metadata": {
            "tags": [],
            "needs_background": "light"
          }
        }
      ]
    },
    {
      "cell_type": "code",
      "metadata": {
        "id": "1THzW0kwcuv4",
        "colab_type": "code",
        "colab": {
          "base_uri": "https://localhost:8080/",
          "height": 101
        },
        "outputId": "a63c6194-cc64-4177-9c8b-b17f852760a4"
      },
      "source": [
        "from torch.optim import Adam\n",
        "\n",
        "lr = 0.001\n",
        "optimizer = Adam(model.parameters(), lr=lr)\n",
        "\n",
        "for i in range(5000):\n",
        "    f = model(x.view(-1, 1))\n",
        "\n",
        "    loss = torch.sum((f - y) ** 2)\n",
        "\n",
        "    optimizer.zero_grad()\n",
        "    loss.backward()\n",
        "    optimizer.step()\n",
        "\n",
        "    if i % 1000 == 0:\n",
        "        print(loss.item())"
      ],
      "execution_count": 215,
      "outputs": [
        {
          "output_type": "stream",
          "text": [
            "1735244.125\n",
            "679938.8125\n",
            "678621.75\n",
            "678401.375\n",
            "678338.375\n"
          ],
          "name": "stdout"
        }
      ]
    },
    {
      "cell_type": "code",
      "metadata": {
        "id": "j0FuXZFOd3iF",
        "colab_type": "code",
        "colab": {
          "base_uri": "https://localhost:8080/",
          "height": 265
        },
        "outputId": "6f5bcd61-885c-4c8f-c55f-edc1dc5f43ea"
      },
      "source": [
        "plot_model(model)"
      ],
      "execution_count": 216,
      "outputs": [
        {
          "output_type": "display_data",
          "data": {
            "image/png": "[encoded data removed]",
            "text/plain": [
              "<Figure size 432x288 with 1 Axes>"
            ]
          },
          "metadata": {
            "tags": [],
            "needs_background": "light"
          }
        }
      ]
    }
  ]
}