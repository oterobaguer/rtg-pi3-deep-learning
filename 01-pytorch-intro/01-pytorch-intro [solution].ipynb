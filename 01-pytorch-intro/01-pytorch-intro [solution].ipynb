{
  "nbformat": 4,
  "nbformat_minor": 0,
  "metadata": {
    "kernelspec": {
      "display_name": "Python 3",
      "language": "python",
      "name": "python3"
    },
    "language_info": {
      "codemirror_mode": {
        "name": "ipython",
        "version": 3
      },
      "file_extension": ".py",
      "mimetype": "text/x-python",
      "name": "python",
      "nbconvert_exporter": "python",
      "pygments_lexer": "ipython3",
      "version": "3.6.8"
    },
    "colab": {
      "name": "01-pytorch-intro.ipynb",
      "provenance": [],
      "collapsed_sections": []
    }
  },
  "cells": [
    {
      "cell_type": "markdown",
      "metadata": {
        "id": "7bvGuyj6SKMj",
        "colab_type": "text"
      },
      "source": [
        "# Introduction to PyTorch\n"
      ]
    },
    {
      "cell_type": "markdown",
      "metadata": {
        "id": "Q3dnQsFsSKMj",
        "colab_type": "text"
      },
      "source": [
        "Python-based scientific computing package for two main purposes:\n",
        "\n",
        "* Replacement for **NumPy** to use the power of GPUs\n",
        "* **Deep learning** research platform that provides maximum flexibility and speed\n",
        "\n",
        "\n",
        "Sources:\n",
        "\n",
        "\n",
        "*   https://towardsdatascience.com/understanding-pytorch-with-an-example-a-step-by-step-tutorial-81fc5f8c4e8e\n",
        "*   https://pytorch.org/tutorials/beginner/blitz/autograd_tutorial.html\n",
        "\n"
      ]
    },
    {
      "cell_type": "markdown",
      "metadata": {
        "id": "vMx5frqYSKMk",
        "colab_type": "text"
      },
      "source": [
        "### 1) Basic operations"
      ]
    },
    {
      "cell_type": "code",
      "metadata": {
        "id": "XkKj-EOBSKMl",
        "colab_type": "code",
        "outputId": "fcd22b33-a05f-4ba2-d4f4-93d9b73f97a5",
        "colab": {
          "base_uri": "https://localhost:8080/",
          "height": 225
        }
      },
      "source": [
        "import numpy as np\n",
        "\n",
        "x = np.zeros((3, 3))\n",
        "print(x)\n",
        "\n",
        "y = x + 1\n",
        "print(y)\n",
        "\n",
        "z = np.random.randn(3, 3)\n",
        "print(z)\n",
        "\n",
        "print(y.dot(z))"
      ],
      "execution_count": 23,
      "outputs": [
        {
          "output_type": "stream",
          "text": [
            "[[0. 0. 0.]\n",
            " [0. 0. 0.]\n",
            " [0. 0. 0.]]\n",
            "[[1. 1. 1.]\n",
            " [1. 1. 1.]\n",
            " [1. 1. 1.]]\n",
            "[[ 1.71896209 -0.3981543  -0.02508786]\n",
            " [-0.25462723  2.01983629 -0.26238413]\n",
            " [-0.46152725  0.2849291   0.54375061]]\n",
            "[[1.00280761 1.90661109 0.25627862]\n",
            " [1.00280761 1.90661109 0.25627862]\n",
            " [1.00280761 1.90661109 0.25627862]]\n"
          ],
          "name": "stdout"
        }
      ]
    },
    {
      "cell_type": "code",
      "metadata": {
        "id": "V2zMTcwaPUXV",
        "colab_type": "code",
        "outputId": "fe81400f-af8c-4eae-df15-e068c9883c4a",
        "colab": {
          "base_uri": "https://localhost:8080/",
          "height": 225
        }
      },
      "source": [
        "import torch\n",
        "\n",
        "x = torch.zeros(3, 3)\n",
        "print(x)\n",
        "\n",
        "y = x + 1\n",
        "print(y)\n",
        "\n",
        "z = torch.randn(3, 3)\n",
        "print(z)\n",
        "\n",
        "print(y.matmul(z))"
      ],
      "execution_count": 24,
      "outputs": [
        {
          "output_type": "stream",
          "text": [
            "tensor([[0., 0., 0.],\n",
            "        [0., 0., 0.],\n",
            "        [0., 0., 0.]])\n",
            "tensor([[1., 1., 1.],\n",
            "        [1., 1., 1.],\n",
            "        [1., 1., 1.]])\n",
            "tensor([[ 1.1944,  0.2692, -1.8129],\n",
            "        [-0.3849,  0.1849,  0.8024],\n",
            "        [ 0.5370, -1.1787,  0.4721]])\n",
            "tensor([[ 1.3466, -0.7246, -0.5384],\n",
            "        [ 1.3466, -0.7246, -0.5384],\n",
            "        [ 1.3466, -0.7246, -0.5384]])\n"
          ],
          "name": "stdout"
        }
      ]
    },
    {
      "cell_type": "markdown",
      "metadata": {
        "id": "EvNFlvMrSKMo",
        "colab_type": "text"
      },
      "source": [
        "### 2) Bridge to NumPy"
      ]
    },
    {
      "cell_type": "code",
      "metadata": {
        "id": "84OXjbq_SKMo",
        "colab_type": "code",
        "outputId": "acc9996b-d7a5-45ac-c363-6ad2111d6d83",
        "colab": {
          "base_uri": "https://localhost:8080/",
          "height": 173
        }
      },
      "source": [
        "print(y)\n",
        "\n",
        "z = y.numpy()\n",
        "print(z)\n",
        "\n",
        "q = torch.from_numpy(z)\n",
        "print(q)"
      ],
      "execution_count": 25,
      "outputs": [
        {
          "output_type": "stream",
          "text": [
            "tensor([[1., 1., 1.],\n",
            "        [1., 1., 1.],\n",
            "        [1., 1., 1.]])\n",
            "[[1. 1. 1.]\n",
            " [1. 1. 1.]\n",
            " [1. 1. 1.]]\n",
            "tensor([[1., 1., 1.],\n",
            "        [1., 1., 1.],\n",
            "        [1., 1., 1.]])\n"
          ],
          "name": "stdout"
        }
      ]
    },
    {
      "cell_type": "markdown",
      "metadata": {
        "id": "3Y-9sMUBSKMr",
        "colab_type": "text"
      },
      "source": [
        "### 3) Automatic Differentiation\n",
        "\n",
        "Mathematically, if you have a vector valued function $y=f(x)$, then the gradient of $y$  with respect to $x$  is a Jacobian matrix:\n",
        "\n",
        "\\begin{split}J=\\left(\\begin{array}{ccc}\n",
        " \\frac{\\partial y_{1}}{\\partial x_{1}} & \\cdots & \\frac{\\partial y_{1}}{\\partial x_{n}}\\\\\n",
        " \\vdots & \\ddots & \\vdots\\\\\n",
        " \\frac{\\partial y_{m}}{\\partial x_{1}} & \\cdots & \\frac{\\partial y_{m}}{\\partial x_{n}}\n",
        " \\end{array}\\right)\\end{split}\n",
        "\n",
        "Generally speaking, `torch.autograd` is an engine for computing vector-Jacobian product. That is, given any vector $v=\\left(\\begin{array}{cccc} v_{1} & v_{2} & \\cdots & v_{m}\\end{array}\\right)^{T}$  compute the product   $v^{T}\\cdot J$.\n",
        "\n",
        "\n",
        "If $v$ happens to be happens to be the gradient of a scalar function $l = g(y)$, that is $v=\\left(\\begin{array}{ccc}\\frac{\\partial l}{\\partial y_{1}} & \\cdots & \\frac{\\partial l}{\\partial y_{m}}\\end{array}\\right)^{T}$, then by the chain rule, the vector-Jacobian product would be the gradient of $l$ with respect to $x$:\n",
        "\n",
        "\\begin{split}J^{T}\\cdot v=\\left(\\begin{array}{ccc}\n",
        " \\frac{\\partial y_{1}}{\\partial x_{1}} & \\cdots & \\frac{\\partial y_{m}}{\\partial x_{1}}\\\\\n",
        " \\vdots & \\ddots & \\vdots\\\\\n",
        " \\frac{\\partial y_{1}}{\\partial x_{n}} & \\cdots & \\frac{\\partial y_{m}}{\\partial x_{n}}\n",
        " \\end{array}\\right)\\left(\\begin{array}{c}\n",
        " \\frac{\\partial l}{\\partial y_{1}}\\\\\n",
        " \\vdots\\\\\n",
        " \\frac{\\partial l}{\\partial y_{m}}\n",
        " \\end{array}\\right)=\\left(\\begin{array}{c}\n",
        " \\frac{\\partial l}{\\partial x_{1}}\\\\\n",
        " \\vdots\\\\\n",
        " \\frac{\\partial l}{\\partial x_{n}}\n",
        " \\end{array}\\right)\\end{split}\n"
      ]
    },
    {
      "cell_type": "code",
      "metadata": {
        "id": "F8QN3CQFSKMr",
        "colab_type": "code",
        "outputId": "dfec397a-b2c3-43f8-c322-20852ee5d4f8",
        "colab": {
          "base_uri": "https://localhost:8080/",
          "height": 87
        }
      },
      "source": [
        "x1 = torch.tensor(2., requires_grad=True)\n",
        "x2 = torch.tensor(5., requires_grad=True)\n",
        "\n",
        "y = x1 * x2\n",
        "\n",
        "z = x1 + y\n",
        "\n",
        "q = torch.exp(z)\n",
        "\n",
        "q.backward()\n",
        "\n",
        "print(x1.grad)\n",
        "print(x2.grad)\n",
        "\n",
        "w = x1 + x2\n",
        "w.backward()\n",
        "\n",
        "print(x1.grad)\n",
        "print(x2.grad)"
      ],
      "execution_count": 26,
      "outputs": [
        {
          "output_type": "stream",
          "text": [
            "tensor(976528.8125)\n",
            "tensor(325509.5938)\n",
            "tensor(976529.8125)\n",
            "tensor(325510.5938)\n"
          ],
          "name": "stdout"
        }
      ]
    },
    {
      "cell_type": "markdown",
      "metadata": {
        "id": "BKX1k9JFSKMt",
        "colab_type": "text"
      },
      "source": [
        "### 4) Linear regression example"
      ]
    },
    {
      "cell_type": "code",
      "metadata": {
        "id": "TTFx62iBSKMu",
        "colab_type": "code",
        "outputId": "947075b7-8457-4c85-9146-c6ab85aefe8d",
        "colab": {
          "base_uri": "https://localhost:8080/",
          "height": 283
        }
      },
      "source": [
        "import matplotlib.pyplot as plt\n",
        "\n",
        "# generate some data\n",
        "n = 100\n",
        "w = 4\n",
        "b = 6\n",
        "\n",
        "x = torch.randn(n)\n",
        "y = x * w + b\n",
        "y += torch.randn(y.shape)\n",
        "\n",
        "plt.scatter(x, y)"
      ],
      "execution_count": 27,
      "outputs": [
        {
          "output_type": "execute_result",
          "data": {
            "text/plain": [
              "<matplotlib.collections.PathCollection at 0x7fca714665f8>"
            ]
          },
          "metadata": {
            "tags": []
          },
          "execution_count": 27
        },
        {
          "output_type": "display_data",
          "data": {
            "image/png": "[encoded data removed]",
            "text/plain": [
              "<Figure size 432x288 with 1 Axes>"
            ]
          },
          "metadata": {
            "tags": [],
            "needs_background": "light"
          }
        }
      ]
    },
    {
      "cell_type": "code",
      "metadata": {
        "id": "zUV1Bcn9U_Oa",
        "colab_type": "code",
        "outputId": "b1b726d0-f515-4ca8-9b00-601a29a938aa",
        "colab": {
          "base_uri": "https://localhost:8080/",
          "height": 265
        }
      },
      "source": [
        "var_w = torch.rand(1, requires_grad=True)\n",
        "var_b = torch.rand(1, requires_grad=True)\n",
        "\n",
        "\n",
        "def plot_model(w, b):\n",
        "    plt.scatter(x, y)    \n",
        "    plt.scatter(x, x * w.detach().numpy() + b.detach().numpy(), color='red')\n",
        "\n",
        "\n",
        "plot_model(var_w, var_b)"
      ],
      "execution_count": 28,
      "outputs": [
        {
          "output_type": "display_data",
          "data": {
            "image/png": "[encoded data removed]",
            "text/plain": [
              "<Figure size 432x288 with 1 Axes>"
            ]
          },
          "metadata": {
            "tags": [],
            "needs_background": "light"
          }
        }
      ]
    },
    {
      "cell_type": "code",
      "metadata": {
        "id": "oBjnzRfiVyvB",
        "colab_type": "code",
        "outputId": "f9636f82-7b54-4291-f374-079aae9141d6",
        "colab": {
          "base_uri": "https://localhost:8080/",
          "height": 191
        }
      },
      "source": [
        "lr = 0.001\n",
        "\n",
        "\n",
        "for i in range(1000):\n",
        "    f = x * var_w + var_b\n",
        "\n",
        "    loss = torch.sum((f - y) ** 2)\n",
        "\n",
        "    if var_w.grad is not None:\n",
        "        var_w.grad.zero_()\n",
        "        var_b.grad.zero_()\n",
        "\n",
        "    loss.backward()\n",
        "\n",
        "    if i % 100 == 0:\n",
        "        print(loss.item())\n",
        "\n",
        "    with torch.no_grad():\n",
        "        var_w -= lr * var_w.grad\n",
        "        var_b -= lr * var_b.grad"
      ],
      "execution_count": 29,
      "outputs": [
        {
          "output_type": "stream",
          "text": [
            "5653.078125\n",
            "107.09107971191406\n",
            "107.09107971191406\n",
            "107.09107971191406\n",
            "107.09107971191406\n",
            "107.09107971191406\n",
            "107.09107971191406\n",
            "107.09107971191406\n",
            "107.09107971191406\n",
            "107.09107971191406\n"
          ],
          "name": "stdout"
        }
      ]
    },
    {
      "cell_type": "code",
      "metadata": {
        "id": "glXJrpjwZUEs",
        "colab_type": "code",
        "outputId": "0f65981e-4444-444b-e05e-6474e6198d91",
        "colab": {
          "base_uri": "https://localhost:8080/",
          "height": 300
        }
      },
      "source": [
        "plot_model(var_w, var_b)\n",
        "print(var_w)\n",
        "print(var_b)"
      ],
      "execution_count": 30,
      "outputs": [
        {
          "output_type": "stream",
          "text": [
            "tensor([4.1495], requires_grad=True)\n",
            "tensor([6.0791], requires_grad=True)\n"
          ],
          "name": "stdout"
        },
        {
          "output_type": "display_data",
          "data": {
            "image/png": "[encoded data removed]",
            "text/plain": [
              "<Figure size 432x288 with 1 Axes>"
            ]
          },
          "metadata": {
            "tags": [],
            "needs_background": "light"
          }
        }
      ]
    },
    {
      "cell_type": "markdown",
      "metadata": {
        "id": "mbdKs34xav4U",
        "colab_type": "text"
      },
      "source": [
        "## Fit non-linear model"
      ]
    },
    {
      "cell_type": "code",
      "metadata": {
        "id": "7qLrw5uxaynr",
        "colab_type": "code",
        "outputId": "0e8850ff-7425-4a44-f98c-1808a8537f1a",
        "colab": {
          "base_uri": "https://localhost:8080/",
          "height": 283
        }
      },
      "source": [
        "x = torch.rand(n, 1) * 20\n",
        "y = 10 * torch.sin(x) + x\n",
        "y += torch.randn(y.shape)\n",
        "\n",
        "plt.scatter(x, y)"
      ],
      "execution_count": 31,
      "outputs": [
        {
          "output_type": "execute_result",
          "data": {
            "text/plain": [
              "<matplotlib.collections.PathCollection at 0x7fca71312e10>"
            ]
          },
          "metadata": {
            "tags": []
          },
          "execution_count": 31
        },
        {
          "output_type": "display_data",
          "data": {
            "image/png": "[encoded data removed]",
            "text/plain": [
              "<Figure size 432x288 with 1 Axes>"
            ]
          },
          "metadata": {
            "tags": [],
            "needs_background": "light"
          }
        }
      ]
    },
    {
      "cell_type": "code",
      "metadata": {
        "id": "z66MKLlObP1q",
        "colab_type": "code",
        "outputId": "28f1b9b6-76c2-4c3a-e45c-41afe1311266",
        "colab": {
          "base_uri": "https://localhost:8080/",
          "height": 266
        }
      },
      "source": [
        "import torch.nn as nn\n",
        "\n",
        "\n",
        "def plot_model(model):\n",
        "    plt.scatter(x, y)\n",
        "    plt.scatter(x, model(x).detach(), color='red')\n",
        "\n",
        "\n",
        "model = nn.Sequential(nn.Linear(1, 100), \n",
        "                      nn.Tanh(),\n",
        "                      nn.Linear(100, 1))\n",
        "\n",
        "plot_model(model)"
      ],
      "execution_count": 32,
      "outputs": [
        {
          "output_type": "display_data",
          "data": {
            "image/png": "[encoded data removed]",
            "text/plain": [
              "<Figure size 432x288 with 1 Axes>"
            ]
          },
          "metadata": {
            "tags": [],
            "needs_background": "light"
          }
        }
      ]
    },
    {
      "cell_type": "code",
      "metadata": {
        "id": "1THzW0kwcuv4",
        "colab_type": "code",
        "outputId": "dc399a66-790f-48e3-c5d6-71f49dbe6236",
        "colab": {
          "base_uri": "https://localhost:8080/",
          "height": 104
        }
      },
      "source": [
        "from torch.optim import Adam\n",
        "\n",
        "lr = 0.01\n",
        "optimizer = Adam(model.parameters(), lr=lr)\n",
        "\n",
        "for i in range(5000):\n",
        "    f = model(x)\n",
        "\n",
        "    loss = torch.sum((f - y) ** 2)\n",
        "\n",
        "    optimizer.zero_grad()\n",
        "    loss.backward()\n",
        "    optimizer.step()\n",
        "\n",
        "    if i % 1000 == 0:\n",
        "        print(loss.item())"
      ],
      "execution_count": 33,
      "outputs": [
        {
          "output_type": "stream",
          "text": [
            "16946.697265625\n",
            "1878.105712890625\n",
            "83.17173767089844\n",
            "73.77159881591797\n",
            "69.08121490478516\n"
          ],
          "name": "stdout"
        }
      ]
    },
    {
      "cell_type": "code",
      "metadata": {
        "id": "j0FuXZFOd3iF",
        "colab_type": "code",
        "outputId": "a1ef0115-e4ca-472c-b113-01c5d310b486",
        "colab": {
          "base_uri": "https://localhost:8080/",
          "height": 266
        }
      },
      "source": [
        "plot_model(model)"
      ],
      "execution_count": 34,
      "outputs": [
        {
          "output_type": "display_data",
          "data": {
            "image/png": "[encoded data removed]",
            "text/plain": [
              "<Figure size 432x288 with 1 Axes>"
            ]
          },
          "metadata": {
            "tags": [],
            "needs_background": "light"
          }
        }
      ]
    }
  ]
}